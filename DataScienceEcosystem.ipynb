{
 "cells": [
  {
   "cell_type": "markdown",
   "id": "0d6d51f5-d66d-4c90-9ded-f3637057e3bf",
   "metadata": {
    "tags": []
   },
   "source": [
    "# Data Science Tools and Ecosystem"
   ]
  },
  {
   "cell_type": "markdown",
   "id": "89ab8f3d-e1ee-42b4-8f5d-4d913668f040",
   "metadata": {},
   "source": [
    "In this notebook, Data Science Tools and Ecosystem are summarized."
   ]
  },
  {
   "cell_type": "markdown",
   "id": "b25407e3-e479-43e4-96d1-e6295874a645",
   "metadata": {},
   "source": [
    "**Objectives:**\n",
    "+ Python \n",
    "- SQL\n",
    "* R\n",
    "+ Scala\n",
    "- Julia "
   ]
  },
  {
   "cell_type": "markdown",
   "id": "b205cfd0-7c12-48d9-9198-cbb88337ba77",
   "metadata": {},
   "source": [
    "Some of the popular languages that Data Scientists use are:\n",
    "1. Python\n",
    "2. SQL\n",
    "3. R"
   ]
  },
  {
   "cell_type": "markdown",
   "id": "725ab6b8-8cd1-4f3b-814f-6c73d8e94a5f",
   "metadata": {},
   "source": [
    "Some of the commonly used libraries used by Data Scientists include:\n",
    "\n",
    "1. NumPy: A powerful library for numerical computing in Python.\n",
    "2. Pandas: Pandas offers data structures and tools for effective data cleaning, data manipulation and analysis.\n",
    "3. scikit-learn: A comprehensive machine learning library with various algorithms and tools.\n",
    "4. TensorFlow: An open-source library for machine learning and deep learning developed by Google.\n"
   ]
  },
  {
   "cell_type": "markdown",
   "id": "c3b70c08-156c-4c85-ae87-aea2be7c608f",
   "metadata": {},
   "source": [
    "|Data Science Tools|\n",
    "|------------------|\n",
    "| Jupyter Notebook|\n",
    "| Visual Studio Code|\n",
    "| Anaconda|"
   ]
  },
  {
   "cell_type": "markdown",
   "id": "b1c79dde-55a5-4ad7-ac4e-ee557183f780",
   "metadata": {},
   "source": [
    "### Below are a few examples of evaluating arithmetic expressions in Python.\n",
    "\n"
   ]
  },
  {
   "cell_type": "code",
   "execution_count": 3,
   "id": "42a3d8ed-7cd4-452b-a568-dbacce4194f7",
   "metadata": {
    "tags": []
   },
   "outputs": [
    {
     "data": {
      "text/plain": [
       "17.0"
      ]
     },
     "execution_count": 3,
     "metadata": {},
     "output_type": "execute_result"
    }
   ],
   "source": [
    "# This a simple arithmetic expression to mutiply then add integers.\n",
    "(3*4)+5."
   ]
  },
  {
   "cell_type": "code",
   "execution_count": 5,
   "id": "0dc56ceb-8c6d-4c72-933f-c8ebb2eac026",
   "metadata": {
    "tags": []
   },
   "outputs": [
    {
     "data": {
      "text/plain": [
       "3.3333333333333335"
      ]
     },
     "execution_count": 5,
     "metadata": {},
     "output_type": "execute_result"
    }
   ],
   "source": [
    "# This will convert 200 minutes to hours by diving by 60.\n",
    "minutes = 200\n",
    "hours = minutes / 60\n",
    "hours\n"
   ]
  },
  {
   "cell_type": "markdown",
   "id": "e70c63b4-610b-4de7-8f4e-9139c4021134",
   "metadata": {},
   "source": [
    "## Author\n",
    "Sylvester John Boateng "
   ]
  }
 ],
 "metadata": {
  "kernelspec": {
   "display_name": "Python",
   "language": "python",
   "name": "conda-env-python-py"
  },
  "language_info": {
   "codemirror_mode": {
    "name": "ipython",
    "version": 3
   },
   "file_extension": ".py",
   "mimetype": "text/x-python",
   "name": "python",
   "nbconvert_exporter": "python",
   "pygments_lexer": "ipython3",
   "version": "3.7.12"
  }
 },
 "nbformat": 4,
 "nbformat_minor": 5
}
